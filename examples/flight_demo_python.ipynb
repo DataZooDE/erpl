{
 "cells": [
  {
   "cell_type": "markdown",
   "id": "253c2d66-1551-422e-bead-94140e0c224b",
   "metadata": {},
   "source": [
    "# Query SAP table and join with local data\n",
    "\n",
    "A first example demonstrates how to join two SAP tables with an external table. We’ll be using the [ABAP Flight Reference Scenario](https://help.sap.com/docs/ABAP_PLATFORM_NEW/fc4c71aa50014fd1b43721701471913d/a9d7c7c140a0408dbc5966c52d156b49.html), specifically joining the `SFLIGHT` and `SPFLI` tables which contain flight and flight schedule details respectively, with an external table `WEATHER` that holds weather information. We will extract flight information and associated temperatures at departure and arrival cities."
   ]
  },
  {
   "cell_type": "markdown",
   "id": "c3898355-0196-4ee9-8ca4-46ce2eaf0de6",
   "metadata": {},
   "source": [
    "## Import DuckDB & load **ERPL** extension\n",
    "In the next cells we import duckdb. Then we install the ERPL extension and load it into the current DB-session. Via multiple SET-commands we configure the connection to our SAP development system. In our case we use the docker based [ABAP Platform Trial](https://hub.docker.com/r/sapse/abap-platform-trial). The credentials are set by default, details can be found in the documentation of the docker image. "
   ]
  },
  {
   "cell_type": "code",
   "execution_count": 1,
   "id": "8b7c5a3c-c33d-48f8-b510-62cc4927fe33",
   "metadata": {},
   "outputs": [],
   "source": [
    "import duckdb"
   ]
  },
  {
   "cell_type": "code",
   "execution_count": 2,
   "id": "bbfc19c4-3de5-4d86-b3e1-3fba37e6c320",
   "metadata": {},
   "outputs": [],
   "source": [
    "con = duckdb.connect(config={\"allow_unsigned_extensions\": \"true\"})\n",
    "con.install_extension(\"./erpl.duckdb_extension\");\n",
    "con.load_extension(\"erpl\");\n",
    "con.sql(\"\"\"\n",
    "SET sap_ashost = 'localhost';\n",
    "SET sap_sysnr = '00';\n",
    "SET sap_user = 'DEVELOPER';\n",
    "SET sap_password = 'Htods70334';\n",
    "SET sap_client = '001';\n",
    "SET sap_lang = 'EN';\n",
    "\"\"\");"
   ]
  },
  {
   "cell_type": "markdown",
   "id": "b2b521f6-0505-4ca5-ad46-7d777336de42",
   "metadata": {},
   "source": [
    "If the loading of the extension was successful, we can find the exportet functions in the list of `duckdb_functions()`"
   ]
  },
  {
   "cell_type": "code",
   "execution_count": 3,
   "id": "57bb0c8d-329b-4231-aef8-37677f684811",
   "metadata": {},
   "outputs": [
    {
     "data": {
      "text/plain": [
       "┌───────────────┬─────────────┬──────────────────────┬───────────────┬───┬──────────┬──────────────┬─────────┐\n",
       "│ database_name │ schema_name │    function_name     │ function_type │ … │ internal │ function_oid │ example │\n",
       "│    varchar    │   varchar   │       varchar        │    varchar    │   │ boolean  │    int64     │ varchar │\n",
       "├───────────────┼─────────────┼──────────────────────┼───────────────┼───┼──────────┼──────────────┼─────────┤\n",
       "│ system        │ main        │ sap_rfc_invoke       │ table         │ … │ true     │         1394 │ NULL    │\n",
       "│ system        │ main        │ sap_rfc_search_group │ table         │ … │ true     │         1396 │ NULL    │\n",
       "│ system        │ main        │ sap_rfc_search_fun…  │ table         │ … │ true     │         1398 │ NULL    │\n",
       "│ system        │ main        │ sap_show_tables      │ table         │ … │ true     │         1400 │ NULL    │\n",
       "│ system        │ main        │ sap_describe_fields  │ table         │ … │ true     │         1402 │ NULL    │\n",
       "│ system        │ main        │ sap_read_table       │ table         │ … │ true     │         1404 │ NULL    │\n",
       "│ system        │ main        │ sap_rfc_ping         │ pragma        │ … │ true     │         1392 │ NULL    │\n",
       "│ system        │ main        │ sap_rfc_function_d…  │ pragma        │ … │ true     │         1406 │ NULL    │\n",
       "│ system        │ main        │ sap_rfc_set_trace_…  │ pragma        │ … │ true     │         1408 │ NULL    │\n",
       "│ system        │ main        │ sap_rfc_set_trace_…  │ pragma        │ … │ true     │         1410 │ NULL    │\n",
       "│ system        │ main        │ sap_rfc_set_maximu…  │ pragma        │ … │ true     │         1412 │ NULL    │\n",
       "│ system        │ main        │ sap_rfc_set_maximu…  │ pragma        │ … │ true     │         1414 │ NULL    │\n",
       "│ system        │ main        │ sap_rfc_set_ini_path │ pragma        │ … │ true     │         1416 │ NULL    │\n",
       "│ system        │ main        │ sap_rfc_reload_ini…  │ pragma        │ … │ true     │         1418 │ NULL    │\n",
       "├───────────────┴─────────────┴──────────────────────┴───────────────┴───┴──────────┴──────────────┴─────────┤\n",
       "│ 14 rows                                                                               14 columns (7 shown) │\n",
       "└────────────────────────────────────────────────────────────────────────────────────────────────────────────┘"
      ]
     },
     "execution_count": 3,
     "metadata": {},
     "output_type": "execute_result"
    }
   ],
   "source": [
    "con.sql(\"SELECT * FROM duckdb_functions() WHERE function_name LIKE '%sap%';\")"
   ]
  },
  {
   "cell_type": "markdown",
   "id": "5bc18ff8-46e0-4d68-8a26-204eb0275a48",
   "metadata": {},
   "source": [
    "## Explore the schema of the relevant tables\n",
    "\n",
    "The ERPL extension provides the method `sap_describe_fields` to explore the data dictionary schema of the respective table. For exploring local data we also can use the `DESCRIBE` command to get the fields of e.g. a CSV-file."
   ]
  },
  {
   "cell_type": "code",
   "execution_count": 4,
   "id": "54786655-b65e-4d44-a5d3-18785a321137",
   "metadata": {},
   "outputs": [
    {
     "data": {
      "text/plain": [
       "┌─────────┬─────────┬────────────┬──────────────────────┬───┬─────────────┬───────────┬───────────┬──────────┐\n",
       "│   pos   │ is_key  │   field    │         text         │ … │ check_table │ ref_table │ ref_field │ language │\n",
       "│ varchar │ varchar │  varchar   │       varchar        │   │   varchar   │  varchar  │  varchar  │ varchar  │\n",
       "├─────────┼─────────┼────────────┼──────────────────────┼───┼─────────────┼───────────┼───────────┼──────────┤\n",
       "│ 0001    │ X       │ MANDT      │ Client               │ … │ T000        │           │           │ E        │\n",
       "│ 0002    │ X       │ CARRID     │ Airline Code         │ … │ SCARR       │           │           │ E        │\n",
       "│ 0003    │ X       │ CONNID     │ Flight Connection …  │ … │ SPFLI       │           │           │ E        │\n",
       "│ 0004    │ X       │ FLDATE     │ Flight date          │ … │             │           │           │ E        │\n",
       "│ 0005    │         │ PRICE      │ Airfare              │ … │             │ SFLIGHT   │ CURRENCY  │ E        │\n",
       "│ 0006    │         │ CURRENCY   │ Local currency of …  │ … │ SCURX       │           │           │ E        │\n",
       "│ 0007    │         │ PLANETYPE  │ Aircraft Type        │ … │ SAPLANE     │           │           │ E        │\n",
       "│ 0008    │         │ SEATSMAX   │ Maximum Capacity i…  │ … │             │           │           │ E        │\n",
       "│ 0009    │         │ SEATSOCC   │ Occupied Seats in …  │ … │             │           │           │ E        │\n",
       "│ 0010    │         │ PAYMENTSUM │ Total of current b…  │ … │             │ SFLIGHT   │ CURRENCY  │ E        │\n",
       "│ 0011    │         │ SEATSMAX_B │ Maximum Capacity i…  │ … │             │           │           │ E        │\n",
       "│ 0012    │         │ SEATSOCC_B │ Occupied Seats in …  │ … │             │           │           │ E        │\n",
       "│ 0013    │         │ SEATSMAX_F │ Maximum Capacity i…  │ … │             │           │           │ E        │\n",
       "│ 0014    │         │ SEATSOCC_F │ Occupied Seats in …  │ … │             │           │           │ E        │\n",
       "├─────────┴─────────┴────────────┴──────────────────────┴───┴─────────────┴───────────┴───────────┴──────────┤\n",
       "│ 14 rows                                                                               11 columns (8 shown) │\n",
       "└────────────────────────────────────────────────────────────────────────────────────────────────────────────┘"
      ]
     },
     "execution_count": 4,
     "metadata": {},
     "output_type": "execute_result"
    }
   ],
   "source": [
    "con.sql(\"SELECT * FROM sap_describe_fields('SFLIGHT');\")"
   ]
  },
  {
   "cell_type": "code",
   "execution_count": 5,
   "id": "dc9a47be-3532-4985-bf21-7d4e6524f5a0",
   "metadata": {},
   "outputs": [
    {
     "data": {
      "text/plain": [
       "┌─────────┬─────────┬───────────┬──────────────────────┬───┬──────────┬─────────────┬───────────┬───────────┬──────────┐\n",
       "│   pos   │ is_key  │   field   │         text         │ … │ decimals │ check_table │ ref_table │ ref_field │ language │\n",
       "│ varchar │ varchar │  varchar  │       varchar        │   │ varchar  │   varchar   │  varchar  │  varchar  │ varchar  │\n",
       "├─────────┼─────────┼───────────┼──────────────────────┼───┼──────────┼─────────────┼───────────┼───────────┼──────────┤\n",
       "│ 0001    │ X       │ MANDT     │ Client               │ … │ 000000   │ T000        │           │           │ E        │\n",
       "│ 0002    │ X       │ CARRID    │ Airline Code         │ … │ 000000   │ SCARR       │           │           │ E        │\n",
       "│ 0003    │ X       │ CONNID    │ Flight Connection …  │ … │ 000000   │             │           │           │ E        │\n",
       "│ 0004    │         │ COUNTRYFR │ Country Key          │ … │ 000000   │ SGEOCITY    │           │           │ E        │\n",
       "│ 0005    │         │ CITYFROM  │ Departure city       │ … │ 000000   │ SGEOCITY    │           │           │ E        │\n",
       "│ 0006    │         │ AIRPFROM  │ Departure airport    │ … │ 000000   │ SAIRPORT    │           │           │ E        │\n",
       "│ 0007    │         │ COUNTRYTO │ Country Key          │ … │ 000000   │ SGEOCITY    │           │           │ E        │\n",
       "│ 0008    │         │ CITYTO    │ Arrival city         │ … │ 000000   │ SGEOCITY    │           │           │ E        │\n",
       "│ 0009    │         │ AIRPTO    │ Destination airport  │ … │ 000000   │ SAIRPORT    │           │           │ E        │\n",
       "│ 0010    │         │ FLTIME    │ Flight time          │ … │ 000000   │             │           │           │ E        │\n",
       "│ 0011    │         │ DEPTIME   │ Departure time       │ … │ 000000   │             │           │           │ E        │\n",
       "│ 0012    │         │ ARRTIME   │ Arrival time         │ … │ 000000   │             │           │           │ E        │\n",
       "│ 0013    │         │ DISTANCE  │ Distance             │ … │ 000004   │             │ SPFLI     │ DISTID    │ E        │\n",
       "│ 0014    │         │ DISTID    │ Mass unit of dista…  │ … │ 000000   │             │           │           │ E        │\n",
       "│ 0015    │         │ FLTYPE    │ Flight type          │ … │ 000000   │             │           │           │ E        │\n",
       "│ 0016    │         │ PERIOD    │ Arrival n day(s) l…  │ … │ 000000   │             │           │           │ E        │\n",
       "├─────────┴─────────┴───────────┴──────────────────────┴───┴──────────┴─────────────┴───────────┴───────────┴──────────┤\n",
       "│ 16 rows                                                                                         11 columns (9 shown) │\n",
       "└──────────────────────────────────────────────────────────────────────────────────────────────────────────────────────┘"
      ]
     },
     "execution_count": 5,
     "metadata": {},
     "output_type": "execute_result"
    }
   ],
   "source": [
    "con.sql(\"SELECT * FROM sap_describe_fields('SPFLI');\")"
   ]
  },
  {
   "cell_type": "code",
   "execution_count": 6,
   "id": "029fedd2-36b4-4c55-8bc1-57b0b1bf57c3",
   "metadata": {},
   "outputs": [
    {
     "data": {
      "text/plain": [
       "┌─────────────┬─────────────┬─────────┬─────────┬─────────┬─────────┐\n",
       "│ column_name │ column_type │  null   │   key   │ default │  extra  │\n",
       "│   varchar   │   varchar   │ varchar │ varchar │ varchar │ varchar │\n",
       "├─────────────┼─────────────┼─────────┼─────────┼─────────┼─────────┤\n",
       "│ FLDATE      │ DATE        │ YES     │ NULL    │ NULL    │ NULL    │\n",
       "│ COUNTRY     │ VARCHAR     │ YES     │ NULL    │ NULL    │ NULL    │\n",
       "│ CITY        │ VARCHAR     │ YES     │ NULL    │ NULL    │ NULL    │\n",
       "│ TEMPERATURE │ DOUBLE      │ YES     │ NULL    │ NULL    │ NULL    │\n",
       "│ CONDITION   │ VARCHAR     │ YES     │ NULL    │ NULL    │ NULL    │\n",
       "└─────────────┴─────────────┴─────────┴─────────┴─────────┴─────────┘"
      ]
     },
     "execution_count": 6,
     "metadata": {},
     "output_type": "execute_result"
    }
   ],
   "source": [
    "con.sql(\"DESCRIBE SELECT * FROM 'WEATHER.csv'\")"
   ]
  },
  {
   "cell_type": "markdown",
   "id": "9931704c-3a8e-4bfd-b189-d3d25bfab20e",
   "metadata": {},
   "source": [
    "## Actual query\n",
    "\n",
    "The actual SQL query joins the three tables and performs the following operations:\n",
    "- Retrieves flight details from `SFLIGHT` using ERPL's `sap_read_table`, aliasing it as `f`.\n",
    "- Again using ERPL's `sap_read_table` we join `SPFLI` (aliased as `s`) on `MANDT`, `CARRID`, and `CONNID` to get the flight's city of origin and destination.\n",
    "- Incorporates two instances of an external weather data CSV file, `w_from` and `w_to`, matching on flight date and respective cities' country and name for departure and arrival.\n",
    "- Rounds the temperature data to one decimal place for readability.\n",
    "- Orders the results by `CARRIER_ID`, `CONNECTION_ID`, and `FLIGHT_DATE`.\n",
    "- Limits the output to the first 25 rows for a concise view.\n",
    "\n",
    "The output of this query will provide a comprehensive view of the flights, including their departure and arrival cities, and the corresponding temperatures, thus offering valuable insights for flight operations analysis."
   ]
  },
  {
   "cell_type": "code",
   "execution_count": 7,
   "id": "42646643-c993-43e4-b18e-d832df481746",
   "metadata": {},
   "outputs": [
    {
     "data": {
      "text/plain": [
       "┌─────────┬─────────┬────────────┬───────────┬───────────┬───────────────┬─────────┐\n",
       "│ CARRID  │ CONNID  │   FLDATE   │ CITY_FROM │ TEMP_FROM │    CITY_TO    │ TEMP_TO │\n",
       "│ varchar │ varchar │    date    │  varchar  │  double   │    varchar    │ double  │\n",
       "├─────────┼─────────┼────────────┼───────────┼───────────┼───────────────┼─────────┤\n",
       "│ AA      │ 0017    │ 2016-11-15 │ NEW YORK  │      28.3 │ SAN FRANCISCO │    19.8 │\n",
       "│ AA      │ 0017    │ 2017-02-03 │ NEW YORK  │      18.9 │ SAN FRANCISCO │    17.2 │\n",
       "│ AA      │ 0017    │ 2017-04-24 │ NEW YORK  │      14.7 │ SAN FRANCISCO │    16.2 │\n",
       "│ AA      │ 0017    │ 2017-07-13 │ NEW YORK  │      16.8 │ SAN FRANCISCO │    22.5 │\n",
       "│ AA      │ 0017    │ 2017-10-01 │ NEW YORK  │      14.6 │ SAN FRANCISCO │    28.3 │\n",
       "│ AA      │ 0017    │ 2017-12-20 │ NEW YORK  │      13.0 │ SAN FRANCISCO │    21.4 │\n",
       "│ AZ      │ 0555    │ 2016-11-15 │ ROME      │      20.6 │ FRANKFURT     │    24.2 │\n",
       "│ AZ      │ 0555    │ 2017-02-03 │ ROME      │      13.1 │ FRANKFURT     │    24.1 │\n",
       "│ AZ      │ 0555    │ 2017-04-24 │ ROME      │      20.7 │ FRANKFURT     │    24.6 │\n",
       "│ AZ      │ 0555    │ 2017-07-13 │ ROME      │      14.0 │ FRANKFURT     │    16.3 │\n",
       "│ ·       │  ·      │     ·      │  ·        │        ·  │  ·            │      ·  │\n",
       "│ ·       │  ·      │     ·      │  ·        │        ·  │  ·            │      ·  │\n",
       "│ ·       │  ·      │     ·      │  ·        │        ·  │  ·            │      ·  │\n",
       "│ AZ      │ 0789    │ 2017-07-13 │ TOKYO     │      19.4 │ ROME          │    14.0 │\n",
       "│ AZ      │ 0789    │ 2017-10-01 │ TOKYO     │      19.8 │ ROME          │    20.9 │\n",
       "│ AZ      │ 0789    │ 2017-12-20 │ TOKYO     │      15.6 │ ROME          │    23.8 │\n",
       "│ DL      │ 0106    │ 2016-11-13 │ NEW YORK  │       9.1 │ FRANKFURT     │    13.8 │\n",
       "│ DL      │ 0106    │ 2017-02-01 │ NEW YORK  │      24.3 │ FRANKFURT     │    23.9 │\n",
       "│ DL      │ 0106    │ 2017-04-22 │ NEW YORK  │      15.8 │ FRANKFURT     │    23.5 │\n",
       "│ DL      │ 0106    │ 2017-07-11 │ NEW YORK  │      20.7 │ FRANKFURT     │    30.6 │\n",
       "│ DL      │ 0106    │ 2017-09-29 │ NEW YORK  │      16.3 │ FRANKFURT     │    19.1 │\n",
       "│ DL      │ 0106    │ 2017-12-18 │ NEW YORK  │      14.4 │ FRANKFURT     │    21.8 │\n",
       "│ JL      │ 0407    │ 2016-11-17 │ TOKYO     │      20.3 │ FRANKFURT     │    20.4 │\n",
       "├─────────┴─────────┴────────────┴───────────┴───────────┴───────────────┴─────────┤\n",
       "│ 25 rows (20 shown)                                                     7 columns │\n",
       "└──────────────────────────────────────────────────────────────────────────────────┘"
      ]
     },
     "execution_count": 7,
     "metadata": {},
     "output_type": "execute_result"
    }
   ],
   "source": [
    "con.sql(\"\"\"\n",
    "SELECT \n",
    "  f.CARRID,\n",
    "  f.CONNID,\n",
    "  f.FLDATE,\n",
    "  s.CITYFROM as CITY_FROM,\n",
    "  ROUND(w_from.TEMPERATURE, 1) as TEMP_FROM,\n",
    "  s.CITYTO as CITY_TO,\n",
    "  ROUND(w_to.TEMPERATURE, 1) as TEMP_TO,\n",
    "  FROM sap_read_table('SFLIGHT') AS f\n",
    "  JOIN sap_read_table('SPFLI') AS s \n",
    "      ON (f.MANDT = s.MANDT AND f.CARRID = s.CARRID AND f.CONNID = s.CONNID)\n",
    "  JOIN 'WEATHER.csv' AS w_from\n",
    "      ON (f.FLDATE = w_from.FLDATE AND s.COUNTRYFR = w_from.COUNTRY AND s.CITYFROM = w_from.CITY)\n",
    "  JOIN 'WEATHER.csv' AS w_to\n",
    "      ON (f.FLDATE = w_to.FLDATE AND s.COUNTRYTO = w_to.COUNTRY AND s.CITYTO = w_to.CITY)\n",
    "  ORDER BY 1, 2, 3\n",
    "  LIMIT 25\n",
    "\"\"\")"
   ]
  },
  {
   "cell_type": "markdown",
   "id": "e94d3879-da72-4237-a9e7-c53ed367a330",
   "metadata": {},
   "source": [
    "## Creating artifical weather information\n",
    "Of course we did not use real weather information (just in case you were confused), but used the following code to create the CSV file."
   ]
  },
  {
   "cell_type": "code",
   "execution_count": 8,
   "id": "e1b2920e-4db2-4347-aabb-cf75c2151b4c",
   "metadata": {},
   "outputs": [],
   "source": [
    "import numpy.random as npr\n",
    "\n",
    "df_weather = con.sql(\"\"\"\n",
    "SELECT DISTINCT\n",
    "  f.FLDATE,\n",
    "  s.COUNTRYFR as COUNTRY,\n",
    "  s.CITYFROM as CITY,\n",
    "  FROM sap_read_table('SFLIGHT') as f\n",
    "  JOIN sap_read_table('SPFLI') as s \n",
    "      ON (f.MANDT = s.MANDT AND f.CARRID = s.CARRID AND f.CONNID = s.CONNID)\n",
    "UNION\n",
    "SELECT DISTINCT\n",
    "  f.FLDATE,\n",
    "  s.COUNTRYTO as COUNTRY,\n",
    "  s.CITYTO as CITY\n",
    "  FROM sap_read_table('SFLIGHT') as f\n",
    "  JOIN sap_read_table('SPFLI') as s \n",
    "      ON (f.MANDT = s.MANDT AND f.CARRID = s.CARRID AND f.CONNID = s.CONNID)\n",
    "\"\"\").to_df()\n",
    "\n",
    "weather_descriptions = [\n",
    "    \"clear sky\",\n",
    "    \"few clouds\",\n",
    "    \"scattered clouds\",\n",
    "    \"broken clouds\",\n",
    "    \"shower rain\",\n",
    "    \"rain\",\n",
    "    \"thunderstorm\",\n",
    "    \"snow\",\n",
    "    \"mist\",\n",
    "    \"thunderstorm with light rain\",\n",
    "    \"thunderstorm with rain\",\n",
    "    \"thunderstorm with heavy rain\",\n",
    "    \"light thunderstorm\",\n",
    "    \"thunderstorm\",\n",
    "    \"heavy thunderstorm\",\n",
    "    \"ragged thunderstorm\",\n",
    "    \"thunderstorm with light drizzle\",\n",
    "    \"thunderstorm with drizzle\",\n",
    "    \"thunderstorm with heavy drizzle\",\n",
    "    \"light intensity drizzle\",\n",
    "    \"drizzle\",\n",
    "    \"heavy intensity drizzle\",\n",
    "    \"light intensity drizzle rain\",\n",
    "    \"drizzle rain\",\n",
    "    \"heavy intensity drizzle rain\",\n",
    "    \"shower rain and drizzle\",\n",
    "    \"heavy shower rain and drizzle\",\n",
    "    \"shower drizzle\",\n",
    "    \"light rain\",\n",
    "    \"moderate rain\",\n",
    "    \"heavy intensity rain\",\n",
    "    \"very heavy rain\",\n",
    "    \"extreme rain\",\n",
    "    \"freezing rain\",\n",
    "    \"light intensity shower rain\",\n",
    "    \"shower rain\",\n",
    "    \"heavy intensity shower rain\",\n",
    "    \"ragged shower rain\",\n",
    "    \"light snow\",\n",
    "    \"snow\",\n",
    "    \"heavy snow\",\n",
    "    \"sleet\",\n",
    "    \"light shower sleet\",\n",
    "    \"shower sleet\",\n",
    "    \"light rain and snow\",\n",
    "    \"rain and snow\",\n",
    "    \"light shower snow\",\n",
    "    \"shower snow\",\n",
    "    \"heavy shower snow\"\n",
    "]\n",
    "\n",
    "df_weather[\"TEMPERATURE\"] = npr.normal(loc=20., scale=5., size=len(df_weather))\n",
    "df_weather[\"CONDITION\"] = npr.choice(weather_descriptions, size=len(df_weather))\n",
    "\n",
    "df_weather.to_csv(\"./WEATHER.csv\", index=False)"
   ]
  },
  {
   "cell_type": "code",
   "execution_count": null,
   "id": "75e44562-e073-459b-bb14-57dd84a76b0a",
   "metadata": {},
   "outputs": [],
   "source": []
  }
 ],
 "metadata": {
  "kernelspec": {
   "display_name": "Python 3 (ipykernel)",
   "language": "python",
   "name": "python3"
  },
  "language_info": {
   "codemirror_mode": {
    "name": "ipython",
    "version": 3
   },
   "file_extension": ".py",
   "mimetype": "text/x-python",
   "name": "python",
   "nbconvert_exporter": "python",
   "pygments_lexer": "ipython3",
   "version": "3.11.6"
  }
 },
 "nbformat": 4,
 "nbformat_minor": 5
}
