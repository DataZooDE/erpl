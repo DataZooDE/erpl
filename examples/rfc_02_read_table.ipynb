{
 "cells": [
  {
   "cell_type": "code",
   "execution_count": 3,
   "id": "aeeeb575-263e-4256-a56c-4ed529d56c7c",
   "metadata": {},
   "outputs": [],
   "source": [
    "from sqlalchemy import create_engine\n",
    "\n",
    "%load_ext sql\n",
    "engine = create_engine('duckdb:///:memory:', connect_args={'config': { 'allow_unsigned_extensions': 'true' }})\n",
    "%sql engine"
   ]
  },
  {
   "cell_type": "code",
   "execution_count": 3,
   "id": "f63e7368-5117-4426-b42e-7c3d509c9959",
   "metadata": {},
   "outputs": [
    {
     "data": {
      "text/html": [
       "<span style=\"None\">Running query in &#x27;duckdb:///:memory:&#x27;</span>"
      ],
      "text/plain": [
       "Running query in 'duckdb:///:memory:'"
      ]
     },
     "metadata": {},
     "output_type": "display_data"
    },
    {
     "data": {
      "text/html": [
       "<table>\n",
       "    <thead>\n",
       "        <tr>\n",
       "            <th>Success</th>\n",
       "        </tr>\n",
       "    </thead>\n",
       "    <tbody>\n",
       "    </tbody>\n",
       "</table>\n",
       "<span style='font-style:italic;font-size:11px'><code>ResultSet</code> : to convert to pandas, call <a href='https://jupysql.ploomber.io/en/latest/integrations/pandas.html'><code>.DataFrame()</code></a> or to polars, call <a href='https://jupysql.ploomber.io/en/latest/integrations/polars.html'><code>.PolarsDataFrame()</code></a></span><br>"
      ],
      "text/plain": [
       "+---------+\n",
       "| Success |\n",
       "+---------+\n",
       "+---------+"
      ]
     },
     "execution_count": 3,
     "metadata": {},
     "output_type": "execute_result"
    }
   ],
   "source": [
    "%%sql\n",
    "INSTALL '../build/release/extension/erpel/erpel.duckdb_extension';\n",
    "LOAD '../build/release/extension/erpel/erpel.duckdb_extension';\n",
    "\n",
    "SET sap_ashost TO 'vhcalnplci';\n",
    "SET sap_sysnr='00';\n",
    "SET sap_user='DEVELOPER';\n",
    "SET sap_password='Bym38tpl';\n",
    "SET sap_client='001';\n",
    "SET sap_lang='EN';"
   ]
  },
  {
   "cell_type": "code",
   "execution_count": 5,
   "id": "f0944faa-435b-4cfb-bfa8-203db12a1932",
   "metadata": {},
   "outputs": [
    {
     "name": "stderr",
     "output_type": "stream",
     "text": [
      "UsageError: %%sql is a cell magic, but the cell body is empty. Did you mean the line magic %sql (single %)?\n"
     ]
    }
   ],
   "source": [
    "%%sql\n",
    "\n",
    "SELECT \n",
    "    VBELN AS SalesDocumentNumber, \n",
    "    ERDAT AS CreationDate, \n",
    "    AUART AS SalesDocumentType, \n",
    "    KUNNR AS CustomerNumber, \n",
    "    BSTNK AS CustomerPurchaseOrderNumber, \n",
    "    NETWR AS NetValueInDocumentCurrency, \n",
    "    WAERK AS DocumentCurrency \n",
    "FROM \n",
    "    sql_read_table('VBAK')\n",
    "WHERE \n",
    "    WAERK = 'USD'\n",
    "LIMIT 100;"
   ]
  },
  {
   "cell_type": "markdown",
   "id": "3617b60d-5c14-436d-89d9-226d54a2eab0",
   "metadata": {},
   "source": [
    "SalesDocumentNumber\tCreationDate\tSalesDocumentType\tCustomerNumber\tCustomerPurchaseOrderNumber\tNetValueInDocumentCurrency\tDocumentCurrency\n",
    "50000123\t2023-07-01\tOR\t1000\t123456\t1000.00\tUSD\n",
    "50000124\t2023-07-02\tZR\t1001\t123457\t2000.00\tUSD\n",
    "50000125\t2023-07-03\tZR\t1002\t123458\t3000.00\tEUR\n",
    "50000126\t2023-07-04\tOR\t1003\t123459\t4000.00\tEUR\n",
    "\n"
   ]
  },
  {
   "cell_type": "markdown",
   "id": "04944d64-716e-483c-acf0-020027c198bf",
   "metadata": {},
   "source": [
    "| SalesDocumentNumber | CreationDate | SalesDocumentType | CustomerNumber | CustomerPurchaseOrderNumber | NetValueInDocumentCurrency | DocumentCurrency |\n",
    "|---------------------|--------------|-------------------|----------------|-----------------------------|-----------------------------|------------------|\n",
    "| 50000123            | 2023-07-01   | OR                | 1000           | 123456                      | 1000.00                     | USD              |\n",
    "| 50000124            | 2023-07-02   | ZR                | 1001           | 123457                      | 2000.00                     | USD              |\n",
    "| 50000127            | 2023-07-05   | OR                | 1002           | 123460                      | 1500.00                     | USD              |\n",
    "| 50000128            | 2023-07-06   | ZR                | 1003           | 123461                      | 2500.00                     | USD              |\n",
    "| 50000129            | 2023-07-07   | OR                | 1004           | 123462                      | 3000.00                     | USD              |\n",
    "| 50000130            | 2023-07-08   | ZR                | 1005           | 123463                      | 3500.00                     | USD              |\n",
    "| 50000131            | 2023-07-09   | OR                | 1006           | 123464                      | 4000.00                     | USD              |\n",
    "| 50000132            | 2023-07-10   | ZR                | 1007           | 123465                      | 4500.00                     | USD              |\n",
    "| 50000133            | 2023-07-11   | OR                | 1008           | 123466                      | 5000.00                     | USD              |\n",
    "| 50000134            | 2023-07-12   | ZR                | 1009           | 123467                      | 5500.00                     | USD              |\n",
    "| 50000135            | 2023-07-13   | OR                | 1010           | 123468                      | 6000.00                     | USD              |\n",
    "| 50000136            | 2023-07-14   | ZR                | 1011           | 123469                      | 6500.00                     | USD              |\n",
    "| 50000137            | 2023-07-15   | OR                | 1012           | 123470                      | 7000.00                     | USD              |\n",
    "| 50000138            | 2023-07-16   | ZR                | 1013           | 123471                      | 7500.00                     | USD              |"
   ]
  },
  {
   "cell_type": "code",
   "execution_count": null,
   "id": "a362dec6-4248-45b3-be39-c6d1334a11c5",
   "metadata": {},
   "outputs": [],
   "source": [
    "%%sql\n",
    "\n",
    "SELECT * FROM sap_read_table('VBAK', rowskips=0, rowcount=100, \n",
    "                             fields=['VBELN', 'ERDAT', 'AUART', 'KUNNR', 'BSTNK', 'NETWR', 'WAERK'],\n",
    "                             options=['WAERK = ''USD'''])"
   ]
  },
  {
   "cell_type": "code",
   "execution_count": null,
   "id": "9179bf3c-a1ae-4acd-b298-a6832a7c826e",
   "metadata": {},
   "outputs": [],
   "source": []
  }
 ],
 "metadata": {
  "kernelspec": {
   "display_name": "Python 3 (ipykernel)",
   "language": "python",
   "name": "python3"
  },
  "language_info": {
   "codemirror_mode": {
    "name": "ipython",
    "version": 3
   },
   "file_extension": ".py",
   "mimetype": "text/x-python",
   "name": "python",
   "nbconvert_exporter": "python",
   "pygments_lexer": "ipython3",
   "version": "3.9.16"
  }
 },
 "nbformat": 4,
 "nbformat_minor": 5
}
