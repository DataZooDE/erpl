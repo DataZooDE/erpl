{
 "cells": [
  {
   "cell_type": "code",
   "execution_count": 1,
   "id": "13b0b234-375b-42d6-9f85-15befe87b0a5",
   "metadata": {},
   "outputs": [],
   "source": [
    "from sqlalchemy import create_engine\n",
    "\n",
    "%load_ext sql\n",
    "engine = create_engine('duckdb:///:memory:', connect_args={'config': { 'allow_unsigned_extensions': 'true' }})\n",
    "%sql engine"
   ]
  },
  {
   "cell_type": "code",
   "execution_count": 2,
   "id": "4f4f56cc-a7a9-45af-a1e0-e4ccecd1926c",
   "metadata": {},
   "outputs": [
    {
     "data": {
      "text/html": [
       "<span style=\"None\">Running query in &#x27;duckdb:///:memory:&#x27;</span>"
      ],
      "text/plain": [
       "Running query in 'duckdb:///:memory:'"
      ]
     },
     "metadata": {},
     "output_type": "display_data"
    },
    {
     "data": {
      "text/html": [
       "<table>\n",
       "    <thead>\n",
       "        <tr>\n",
       "            <th>extension_name</th>\n",
       "            <th>loaded</th>\n",
       "            <th>installed</th>\n",
       "            <th>install_path</th>\n",
       "            <th>description</th>\n",
       "            <th>aliases</th>\n",
       "        </tr>\n",
       "    </thead>\n",
       "    <tbody>\n",
       "        <tr>\n",
       "            <td>autocomplete</td>\n",
       "            <td>False</td>\n",
       "            <td>False</td>\n",
       "            <td></td>\n",
       "            <td>Add supports for autocomplete in the shell</td>\n",
       "            <td>[]</td>\n",
       "        </tr>\n",
       "        <tr>\n",
       "            <td>erpel</td>\n",
       "            <td>True</td>\n",
       "            <td>None</td>\n",
       "            <td>/home/jr/.duckdb/extensions/v0.8.1/linux_amd64/erpel.duckdb_extension</td>\n",
       "            <td></td>\n",
       "            <td>[]</td>\n",
       "        </tr>\n",
       "        <tr>\n",
       "            <td>fts</td>\n",
       "            <td>True</td>\n",
       "            <td>True</td>\n",
       "            <td>(BUILT-IN)</td>\n",
       "            <td>Adds support for Full-Text Search Indexes</td>\n",
       "            <td>[]</td>\n",
       "        </tr>\n",
       "        <tr>\n",
       "            <td><a href=httpfs>httpfs</a></td>\n",
       "            <td>False</td>\n",
       "            <td>True</td>\n",
       "            <td>/home/jr/.duckdb/extensions/v0.8.1/linux_amd64/httpfs.duckdb_extension</td>\n",
       "            <td>Adds support for reading and writing files over a HTTP(S) connection</td>\n",
       "            <td>['http', 'https', 's3']</td>\n",
       "        </tr>\n",
       "        <tr>\n",
       "            <td>icu</td>\n",
       "            <td>True</td>\n",
       "            <td>True</td>\n",
       "            <td>/home/jr/.duckdb/extensions/v0.8.1/linux_amd64/icu.duckdb_extension</td>\n",
       "            <td>Adds support for time zones and collations using the ICU library</td>\n",
       "            <td>[]</td>\n",
       "        </tr>\n",
       "        <tr>\n",
       "            <td>inet</td>\n",
       "            <td>False</td>\n",
       "            <td>False</td>\n",
       "            <td></td>\n",
       "            <td>Adds support for IP-related data types and functions</td>\n",
       "            <td>[]</td>\n",
       "        </tr>\n",
       "        <tr>\n",
       "            <td>jemalloc</td>\n",
       "            <td>True</td>\n",
       "            <td>True</td>\n",
       "            <td>(BUILT-IN)</td>\n",
       "            <td>Overwrites system allocator with JEMalloc</td>\n",
       "            <td>[]</td>\n",
       "        </tr>\n",
       "        <tr>\n",
       "            <td>json</td>\n",
       "            <td>True</td>\n",
       "            <td>True</td>\n",
       "            <td>/home/jr/.duckdb/extensions/v0.8.1/linux_amd64/json.duckdb_extension</td>\n",
       "            <td>Adds support for JSON operations</td>\n",
       "            <td>[]</td>\n",
       "        </tr>\n",
       "        <tr>\n",
       "            <td>motherduck</td>\n",
       "            <td>False</td>\n",
       "            <td>False</td>\n",
       "            <td></td>\n",
       "            <td>Enables motherduck integration with the system</td>\n",
       "            <td>['md']</td>\n",
       "        </tr>\n",
       "        <tr>\n",
       "            <td>parquet</td>\n",
       "            <td>True</td>\n",
       "            <td>True</td>\n",
       "            <td>/home/jr/.duckdb/extensions/v0.8.1/linux_amd64/parquet.duckdb_extension</td>\n",
       "            <td>Adds support for reading and writing parquet files</td>\n",
       "            <td>[]</td>\n",
       "        </tr>\n",
       "    </tbody>\n",
       "</table>\n",
       "<span style='font-style:italic;font-size:11px'><code>ResultSet</code> : to convert to pandas, call <a href='https://jupysql.ploomber.io/en/latest/integrations/pandas.html'><code>.DataFrame()</code></a> or to polars, call <a href='https://jupysql.ploomber.io/en/latest/integrations/polars.html'><code>.PolarsDataFrame()</code></a></span><br>\n",
       "<span style=\"font-style:italic;text-align:center;\">Truncated to displaylimit of 10</span><br><span style=\"font-style:italic;text-align:center;\">If you want to see more, please visit <a href=\"https://jupysql.ploomber.io/en/latest/api/configuration.html#displaylimit\">displaylimit</a> configuration</span>"
      ],
      "text/plain": [
       "+---------------------------+--------+-----------+-------------------------------------------------------------------------+----------------------------------------------------------------------+-------------------------+\n",
       "|       extension_name      | loaded | installed |                               install_path                              |                             description                              |         aliases         |\n",
       "+---------------------------+--------+-----------+-------------------------------------------------------------------------+----------------------------------------------------------------------+-------------------------+\n",
       "|        autocomplete       | False  |   False   |                                                                         |              Add supports for autocomplete in the shell              |            []           |\n",
       "|           erpel           |  True  |    None   |  /home/jr/.duckdb/extensions/v0.8.1/linux_amd64/erpel.duckdb_extension  |                                                                      |            []           |\n",
       "|            fts            |  True  |    True   |                                (BUILT-IN)                               |              Adds support for Full-Text Search Indexes               |            []           |\n",
       "| <a href=httpfs>httpfs</a> | False  |    True   |  /home/jr/.duckdb/extensions/v0.8.1/linux_amd64/httpfs.duckdb_extension | Adds support for reading and writing files over a HTTP(S) connection | ['http', 'https', 's3'] |\n",
       "|            icu            |  True  |    True   |   /home/jr/.duckdb/extensions/v0.8.1/linux_amd64/icu.duckdb_extension   |   Adds support for time zones and collations using the ICU library   |            []           |\n",
       "|            inet           | False  |   False   |                                                                         |         Adds support for IP-related data types and functions         |            []           |\n",
       "|          jemalloc         |  True  |    True   |                                (BUILT-IN)                               |              Overwrites system allocator with JEMalloc               |            []           |\n",
       "|            json           |  True  |    True   |   /home/jr/.duckdb/extensions/v0.8.1/linux_amd64/json.duckdb_extension  |                   Adds support for JSON operations                   |            []           |\n",
       "|         motherduck        | False  |   False   |                                                                         |            Enables motherduck integration with the system            |          ['md']         |\n",
       "|          parquet          |  True  |    True   | /home/jr/.duckdb/extensions/v0.8.1/linux_amd64/parquet.duckdb_extension |          Adds support for reading and writing parquet files          |            []           |\n",
       "+---------------------------+--------+-----------+-------------------------------------------------------------------------+----------------------------------------------------------------------+-------------------------+"
      ]
     },
     "execution_count": 2,
     "metadata": {},
     "output_type": "execute_result"
    }
   ],
   "source": [
    "%%sql\n",
    "INSTALL '../build/release/extension/erpel/erpel.duckdb_extension';\n",
    "LOAD '../build/release/extension/erpel/erpel.duckdb_extension';\n",
    "SELECT * from duckdb_extensions();"
   ]
  },
  {
   "cell_type": "code",
   "execution_count": 3,
   "id": "3a8b653c-b73c-47c9-868a-1c938100ed97",
   "metadata": {},
   "outputs": [
    {
     "data": {
      "text/html": [
       "<span style=\"None\">Running query in &#x27;duckdb:///:memory:&#x27;</span>"
      ],
      "text/plain": [
       "Running query in 'duckdb:///:memory:'"
      ]
     },
     "metadata": {},
     "output_type": "display_data"
    },
    {
     "data": {
      "text/html": [
       "<table>\n",
       "    <thead>\n",
       "        <tr>\n",
       "            <th>name</th>\n",
       "            <th>value</th>\n",
       "            <th>description</th>\n",
       "            <th>input_type</th>\n",
       "        </tr>\n",
       "    </thead>\n",
       "    <tbody>\n",
       "        <tr>\n",
       "            <td>sap_ashost</td>\n",
       "            <td>vhcalnplci</td>\n",
       "            <td>The hostname SAP application server</td>\n",
       "            <td>VARCHAR</td>\n",
       "        </tr>\n",
       "        <tr>\n",
       "            <td>sap_client</td>\n",
       "            <td>001</td>\n",
       "            <td>Don't know yet</td>\n",
       "            <td>VARCHAR</td>\n",
       "        </tr>\n",
       "        <tr>\n",
       "            <td>sap_lang</td>\n",
       "            <td>EN</td>\n",
       "            <td>Language of the user to connect with</td>\n",
       "            <td>VARCHAR</td>\n",
       "        </tr>\n",
       "        <tr>\n",
       "            <td>sap_password</td>\n",
       "            <td>Bym38tpl</td>\n",
       "            <td>User password to login</td>\n",
       "            <td>VARCHAR</td>\n",
       "        </tr>\n",
       "        <tr>\n",
       "            <td>sap_sysnr</td>\n",
       "            <td>00</td>\n",
       "            <td>System number on the application server</td>\n",
       "            <td>VARCHAR</td>\n",
       "        </tr>\n",
       "        <tr>\n",
       "            <td>sap_user</td>\n",
       "            <td>DEVELOPER</td>\n",
       "            <td>Username to login</td>\n",
       "            <td>VARCHAR</td>\n",
       "        </tr>\n",
       "    </tbody>\n",
       "</table>\n",
       "<span style='font-style:italic;font-size:11px'><code>ResultSet</code> : to convert to pandas, call <a href='https://jupysql.ploomber.io/en/latest/integrations/pandas.html'><code>.DataFrame()</code></a> or to polars, call <a href='https://jupysql.ploomber.io/en/latest/integrations/polars.html'><code>.PolarsDataFrame()</code></a></span><br>"
      ],
      "text/plain": [
       "+--------------+------------+-----------------------------------------+------------+\n",
       "|     name     |   value    |               description               | input_type |\n",
       "+--------------+------------+-----------------------------------------+------------+\n",
       "|  sap_ashost  | vhcalnplci |   The hostname SAP application server   |  VARCHAR   |\n",
       "|  sap_client  |    001     |              Don't know yet             |  VARCHAR   |\n",
       "|   sap_lang   |     EN     |   Language of the user to connect with  |  VARCHAR   |\n",
       "| sap_password |  Bym38tpl  |          User password to login         |  VARCHAR   |\n",
       "|  sap_sysnr   |     00     | System number on the application server |  VARCHAR   |\n",
       "|   sap_user   | DEVELOPER  |            Username to login            |  VARCHAR   |\n",
       "+--------------+------------+-----------------------------------------+------------+"
      ]
     },
     "execution_count": 3,
     "metadata": {},
     "output_type": "execute_result"
    }
   ],
   "source": [
    "%%sql\n",
    "SET sap_ashost TO 'vhcalnplci';\n",
    "SET sap_sysnr='00';\n",
    "SET sap_user='DEVELOPER';\n",
    "SET sap_password='Bym38tpl';\n",
    "SET sap_client='001';\n",
    "SET sap_lang='EN';\n",
    "SELECT * FROM duckdb_settings() where name like 'sap%' order by 1;"
   ]
  },
  {
   "cell_type": "code",
   "execution_count": 4,
   "id": "cc30a159-efdf-4f86-93e1-a6d906cee27e",
   "metadata": {},
   "outputs": [
    {
     "data": {
      "text/html": [
       "<span style=\"None\">Running query in &#x27;duckdb:///:memory:&#x27;</span>"
      ],
      "text/plain": [
       "Running query in 'duckdb:///:memory:'"
      ]
     },
     "metadata": {},
     "output_type": "display_data"
    },
    {
     "data": {
      "text/html": [
       "<table>\n",
       "    <thead>\n",
       "        <tr>\n",
       "            <th>msg</th>\n",
       "        </tr>\n",
       "    </thead>\n",
       "    <tbody>\n",
       "        <tr>\n",
       "            <td>PONG</td>\n",
       "        </tr>\n",
       "    </tbody>\n",
       "</table>\n",
       "<span style='font-style:italic;font-size:11px'><code>ResultSet</code> : to convert to pandas, call <a href='https://jupysql.ploomber.io/en/latest/integrations/pandas.html'><code>.DataFrame()</code></a> or to polars, call <a href='https://jupysql.ploomber.io/en/latest/integrations/polars.html'><code>.PolarsDataFrame()</code></a></span><br>"
      ],
      "text/plain": [
       "+------+\n",
       "| msg  |\n",
       "+------+\n",
       "| PONG |\n",
       "+------+"
      ]
     },
     "execution_count": 4,
     "metadata": {},
     "output_type": "execute_result"
    }
   ],
   "source": [
    "%sql PRAGMA sap_rfc_ping"
   ]
  },
  {
   "cell_type": "code",
   "execution_count": 5,
   "id": "703cfedf-1402-4765-86c7-a562714966b5",
   "metadata": {},
   "outputs": [
    {
     "data": {
      "text/html": [
       "<span style=\"None\">Running query in &#x27;duckdb:///:memory:&#x27;</span>"
      ],
      "text/plain": [
       "Running query in 'duckdb:///:memory:'"
      ]
     },
     "metadata": {},
     "output_type": "display_data"
    },
    {
     "data": {
      "text/html": [
       "<table>\n",
       "    <thead>\n",
       "        <tr>\n",
       "            <th>FUNCNAME</th>\n",
       "            <th>GROUPNAME</th>\n",
       "            <th>APPL</th>\n",
       "            <th>HOST</th>\n",
       "            <th>STEXT</th>\n",
       "        </tr>\n",
       "    </thead>\n",
       "    <tbody>\n",
       "        <tr>\n",
       "            <td>/ASU/BP_JOBLOG_SHOW_SM37B_RFC</td>\n",
       "            <td>/ASU/SSM_SERVICES</td>\n",
       "            <td></td>\n",
       "            <td></td>\n",
       "            <td>RFC-Wrapper around BP_JOBLOG_SHOW_SM37B</td>\n",
       "        </tr>\n",
       "        <tr>\n",
       "            <td>/ASU/CHECK_UPGRADE_STATUS</td>\n",
       "            <td>/ASU/RFC_SERVICES</td>\n",
       "            <td></td>\n",
       "            <td></td>\n",
       "            <td>Determine the status of the ASU in upgrade use case</td>\n",
       "        </tr>\n",
       "        <tr>\n",
       "            <td>/ASU/DISPLAY_TEXT</td>\n",
       "            <td>/ASU/SERVICES</td>\n",
       "            <td>G</td>\n",
       "            <td></td>\n",
       "            <td>Behandlung von Langtexten im Schedule-Manager</td>\n",
       "        </tr>\n",
       "        <tr>\n",
       "            <td>/ASU/OFFICE_DOCUMENT_SHOW</td>\n",
       "            <td>/ASU/OFFICE_INTEGRATION</td>\n",
       "            <td>K</td>\n",
       "            <td></td>\n",
       "            <td>Schedule Manager: Office-Dokument bearbeiten</td>\n",
       "        </tr>\n",
       "        <tr>\n",
       "            <td>/ASU/RS_VARIANT_ADD</td>\n",
       "            <td>/ASU/SVAR</td>\n",
       "            <td></td>\n",
       "            <td></td>\n",
       "            <td>Hinzufuegen neue Variante</td>\n",
       "        </tr>\n",
       "        <tr>\n",
       "            <td>/ASU/RS_VARIANT_CATALOG</td>\n",
       "            <td>/ASU/SVAR</td>\n",
       "            <td>S</td>\n",
       "            <td></td>\n",
       "            <td>Returns variant directory for a report in an internal table</td>\n",
       "        </tr>\n",
       "        <tr>\n",
       "            <td>/ASU/RS_VARIANT_CHANGE</td>\n",
       "            <td>/ASU/SVAR</td>\n",
       "            <td></td>\n",
       "            <td></td>\n",
       "            <td>Ändern Variante</td>\n",
       "        </tr>\n",
       "        <tr>\n",
       "            <td>/ASU/RS_VARIANT_DISPLAY</td>\n",
       "            <td>/ASU/SVAR</td>\n",
       "            <td>S</td>\n",
       "            <td></td>\n",
       "            <td>Anzeigen der Variante</td>\n",
       "        </tr>\n",
       "        <tr>\n",
       "            <td>/ASU/RS_VARIANT_EXISTS</td>\n",
       "            <td>/ASU/SVAR</td>\n",
       "            <td>S</td>\n",
       "            <td></td>\n",
       "            <td>Checks whether variant exists</td>\n",
       "        </tr>\n",
       "        <tr>\n",
       "            <td>/ASU/SCMA_TREAT_TEXT</td>\n",
       "            <td>/ASU/SERVICES</td>\n",
       "            <td>G</td>\n",
       "            <td></td>\n",
       "            <td>Behandlung von Langtexten im Schedule-Manager</td>\n",
       "        </tr>\n",
       "    </tbody>\n",
       "</table>\n",
       "<span style='font-style:italic;font-size:11px'><code>ResultSet</code> : to convert to pandas, call <a href='https://jupysql.ploomber.io/en/latest/integrations/pandas.html'><code>.DataFrame()</code></a> or to polars, call <a href='https://jupysql.ploomber.io/en/latest/integrations/polars.html'><code>.PolarsDataFrame()</code></a></span><br>\n",
       "<span style=\"font-style:italic;text-align:center;\">Truncated to displaylimit of 10</span><br><span style=\"font-style:italic;text-align:center;\">If you want to see more, please visit <a href=\"https://jupysql.ploomber.io/en/latest/api/configuration.html#displaylimit\">displaylimit</a> configuration</span>"
      ],
      "text/plain": [
       "+-------------------------------+-------------------------+------+------+-------------------------------------------------------------+\n",
       "|            FUNCNAME           |        GROUPNAME        | APPL | HOST |                            STEXT                            |\n",
       "+-------------------------------+-------------------------+------+------+-------------------------------------------------------------+\n",
       "| /ASU/BP_JOBLOG_SHOW_SM37B_RFC |    /ASU/SSM_SERVICES    |      |      |           RFC-Wrapper around BP_JOBLOG_SHOW_SM37B           |\n",
       "|   /ASU/CHECK_UPGRADE_STATUS   |    /ASU/RFC_SERVICES    |      |      |     Determine the status of the ASU in upgrade use case     |\n",
       "|       /ASU/DISPLAY_TEXT       |      /ASU/SERVICES      |  G   |      |        Behandlung von Langtexten im Schedule-Manager        |\n",
       "|   /ASU/OFFICE_DOCUMENT_SHOW   | /ASU/OFFICE_INTEGRATION |  K   |      |         Schedule Manager: Office-Dokument bearbeiten        |\n",
       "|      /ASU/RS_VARIANT_ADD      |        /ASU/SVAR        |      |      |                  Hinzufuegen neue Variante                  |\n",
       "|    /ASU/RS_VARIANT_CATALOG    |        /ASU/SVAR        |  S   |      | Returns variant directory for a report in an internal table |\n",
       "|     /ASU/RS_VARIANT_CHANGE    |        /ASU/SVAR        |      |      |                       Ändern Variante                       |\n",
       "|    /ASU/RS_VARIANT_DISPLAY    |        /ASU/SVAR        |  S   |      |                    Anzeigen der Variante                    |\n",
       "|     /ASU/RS_VARIANT_EXISTS    |        /ASU/SVAR        |  S   |      |                Checks whether variant exists                |\n",
       "|      /ASU/SCMA_TREAT_TEXT     |      /ASU/SERVICES      |  G   |      |        Behandlung von Langtexten im Schedule-Manager        |\n",
       "+-------------------------------+-------------------------+------+------+-------------------------------------------------------------+"
      ]
     },
     "execution_count": 5,
     "metadata": {},
     "output_type": "execute_result"
    }
   ],
   "source": [
    "%sql SELECT * FROM sap_rfc_search_function() LIMIT 10;"
   ]
  },
  {
   "cell_type": "code",
   "execution_count": 21,
   "id": "9d18d063-f9bc-4aba-9185-eac697851134",
   "metadata": {},
   "outputs": [
    {
     "data": {
      "text/html": [
       "<span style=\"None\">Running query in &#x27;duckdb:///:memory:&#x27;</span>"
      ],
      "text/plain": [
       "Running query in 'duckdb:///:memory:'"
      ]
     },
     "metadata": {},
     "output_type": "display_data"
    },
    {
     "data": {
      "text/html": [
       "<table>\n",
       "    <thead>\n",
       "        <tr>\n",
       "            <th>ECHOTEXT</th>\n",
       "            <th>RESPTEXT</th>\n",
       "        </tr>\n",
       "    </thead>\n",
       "    <tbody>\n",
       "        <tr>\n",
       "            <td>Quack</td>\n",
       "            <td>SAP R/3 Rel. 752   Sysid: NPL      Date: 20230725   Time: 182316   Logon_Data: 001/DEVELOPER/E</td>\n",
       "        </tr>\n",
       "    </tbody>\n",
       "</table>\n",
       "<span style='font-style:italic;font-size:11px'><code>ResultSet</code> : to convert to pandas, call <a href='https://jupysql.ploomber.io/en/latest/integrations/pandas.html'><code>.DataFrame()</code></a> or to polars, call <a href='https://jupysql.ploomber.io/en/latest/integrations/polars.html'><code>.PolarsDataFrame()</code></a></span><br>"
      ],
      "text/plain": [
       "+----------+------------------------------------------------------------------------------------------------+\n",
       "| ECHOTEXT |                                            RESPTEXT                                            |\n",
       "+----------+------------------------------------------------------------------------------------------------+\n",
       "|  Quack   | SAP R/3 Rel. 752   Sysid: NPL      Date: 20230725   Time: 182316   Logon_Data: 001/DEVELOPER/E |\n",
       "+----------+------------------------------------------------------------------------------------------------+"
      ]
     },
     "execution_count": 21,
     "metadata": {},
     "output_type": "execute_result"
    }
   ],
   "source": [
    "%sql SELECT * FROM sap_rfc_invoke('STFC_CONNECTION', {'REQUTEXT': 'Quack'});"
   ]
  },
  {
   "cell_type": "code",
   "execution_count": 9,
   "id": "8ec02543-68d8-40cd-9b11-71e00ff7df12",
   "metadata": {},
   "outputs": [
    {
     "data": {
      "text/html": [
       "<span style=\"None\">Running query in &#x27;duckdb:///:memory:&#x27;</span>"
      ],
      "text/plain": [
       "Running query in 'duckdb:///:memory:'"
      ]
     },
     "metadata": {},
     "output_type": "display_data"
    },
    {
     "data": {
      "text/html": [
       "<table>\n",
       "    <thead>\n",
       "        <tr>\n",
       "            <th>RFCFLOAT</th>\n",
       "            <th>RFCCHAR1</th>\n",
       "            <th>RFCDATE</th>\n",
       "            <th>RFCTIME</th>\n",
       "            <th>RFCINT4</th>\n",
       "            <th>RFCDATA1</th>\n",
       "        </tr>\n",
       "    </thead>\n",
       "    <tbody>\n",
       "        <tr>\n",
       "            <td>1.23456789</td>\n",
       "            <td>A</td>\n",
       "            <td>2022-01-01</td>\n",
       "            <td>12:34:56</td>\n",
       "            <td>32767</td>\n",
       "            <td>XXXXXXXXXXXXXXXXXXXXXXXXXXXXXXXXXXXXXXXXXXXXXXXXXX</td>\n",
       "        </tr>\n",
       "    </tbody>\n",
       "</table>\n",
       "<span style='font-style:italic;font-size:11px'><code>ResultSet</code> : to convert to pandas, call <a href='https://jupysql.ploomber.io/en/latest/integrations/pandas.html'><code>.DataFrame()</code></a> or to polars, call <a href='https://jupysql.ploomber.io/en/latest/integrations/polars.html'><code>.PolarsDataFrame()</code></a></span><br>"
      ],
      "text/plain": [
       "+------------+----------+------------+----------+---------+----------------------------------------------------+\n",
       "|  RFCFLOAT  | RFCCHAR1 |  RFCDATE   | RFCTIME  | RFCINT4 |                      RFCDATA1                      |\n",
       "+------------+----------+------------+----------+---------+----------------------------------------------------+\n",
       "| 1.23456789 |    A     | 2022-01-01 | 12:34:56 |  32767  | XXXXXXXXXXXXXXXXXXXXXXXXXXXXXXXXXXXXXXXXXXXXXXXXXX |\n",
       "+------------+----------+------------+----------+---------+----------------------------------------------------+"
      ]
     },
     "execution_count": 9,
     "metadata": {},
     "output_type": "execute_result"
    }
   ],
   "source": [
    "%%sql\n",
    "select ECHOSTRUCT.RFCFLOAT, ECHOSTRUCT.RFCCHAR1, ECHOSTRUCT.RFCDATE, ECHOSTRUCT.RFCTIME, ECHOSTRUCT.RFCINT4, ECHOSTRUCT.RFCDATA1 from sap_rfc_invoke('STFC_STRUCTURE', {\n",
    "    'IMPORTSTRUCT': { \n",
    "        'RFCCHAR1': 'A', \n",
    "        'RFCCHAR2': 'BB',\n",
    "        'RFCDATE': '2022-01-01'::DATE,\n",
    "        'RFCTIME': '12:34:56'::TIME,\n",
    "        'RFCFLOAT': 1.23456789,\n",
    "        'RFCINT1': 1,\n",
    "        'RFCINT2': 130,\n",
    "        'RFCINT4': 32767,\n",
    "        'RFCHEX3': 'XXX',\n",
    "        'RFCDATA1': repeat('X', 50),\n",
    "    }\n",
    "});"
   ]
  },
  {
   "cell_type": "code",
   "execution_count": 17,
   "id": "715a5613-b8a8-4247-900c-7fd58cb7bb3e",
   "metadata": {},
   "outputs": [
    {
     "data": {
      "text/html": [
       "<span style=\"None\">Running query in &#x27;duckdb:///:memory:&#x27;</span>"
      ],
      "text/plain": [
       "Running query in 'duckdb:///:memory:'"
      ]
     },
     "metadata": {},
     "output_type": "display_data"
    },
    {
     "data": {
      "text/html": [
       "<table>\n",
       "    <thead>\n",
       "        <tr>\n",
       "            <th>(RFCTABLE[1]).RFCCHAR1</th>\n",
       "            <th>(RFCTABLE[2]).RFCCHAR2</th>\n",
       "            <th>(RFCTABLE[3]).RFCDATE</th>\n",
       "        </tr>\n",
       "    </thead>\n",
       "    <tbody>\n",
       "        <tr>\n",
       "            <td>A</td>\n",
       "            <td>BB</td>\n",
       "            <td>2022-01-03</td>\n",
       "        </tr>\n",
       "    </tbody>\n",
       "</table>\n",
       "<span style='font-style:italic;font-size:11px'><code>ResultSet</code> : to convert to pandas, call <a href='https://jupysql.ploomber.io/en/latest/integrations/pandas.html'><code>.DataFrame()</code></a> or to polars, call <a href='https://jupysql.ploomber.io/en/latest/integrations/polars.html'><code>.PolarsDataFrame()</code></a></span><br>"
      ],
      "text/plain": [
       "+------------------------+------------------------+-----------------------+\n",
       "| (RFCTABLE[1]).RFCCHAR1 | (RFCTABLE[2]).RFCCHAR2 | (RFCTABLE[3]).RFCDATE |\n",
       "+------------------------+------------------------+-----------------------+\n",
       "|           A            |           BB           |       2022-01-03      |\n",
       "+------------------------+------------------------+-----------------------+"
      ]
     },
     "execution_count": 17,
     "metadata": {},
     "output_type": "execute_result"
    }
   ],
   "source": [
    "%%sql\n",
    "select RFCTABLE[1].RFCCHAR1, RFCTABLE[2].RFCCHAR2, RFCTABLE[3].RFCDATE from sap_rfc_invoke('STFC_STRUCTURE', {\n",
    "    'RFCTABLE': [\n",
    "        {'RFCCHAR1': 'A', 'RFCCHAR2': 'AA', 'RFCDATE': '2022-01-01'::DATE, 'RFCINT4': 1}, \n",
    "        {'RFCCHAR1': 'B', 'RFCCHAR2': 'BB', 'RFCDATE': '2022-01-02'::DATE, 'RFCINT4': 2},\n",
    "        {'RFCCHAR1': 'C', 'RFCCHAR2': 'CC', 'RFCDATE': '2022-01-03'::DATE, 'RFCINT4': 3},\n",
    "    ]\n",
    "});"
   ]
  },
  {
   "cell_type": "code",
   "execution_count": 16,
   "id": "5157d327-803f-4b3e-a19a-940094cfdf38",
   "metadata": {},
   "outputs": [
    {
     "data": {
      "text/html": [
       "<span style=\"None\">Running query in &#x27;duckdb:///:memory:&#x27;</span>"
      ],
      "text/plain": [
       "Running query in 'duckdb:///:memory:'"
      ]
     },
     "metadata": {},
     "output_type": "display_data"
    },
    {
     "data": {
      "text/html": [
       "<table>\n",
       "    <thead>\n",
       "        <tr>\n",
       "            <th>RFCCHAR1</th>\n",
       "        </tr>\n",
       "    </thead>\n",
       "    <tbody>\n",
       "        <tr>\n",
       "            <td>A</td>\n",
       "        </tr>\n",
       "        <tr>\n",
       "            <td>B</td>\n",
       "        </tr>\n",
       "        <tr>\n",
       "            <td>C</td>\n",
       "        </tr>\n",
       "        <tr>\n",
       "            <td>X</td>\n",
       "        </tr>\n",
       "    </tbody>\n",
       "</table>\n",
       "<span style='font-style:italic;font-size:11px'><code>ResultSet</code> : to convert to pandas, call <a href='https://jupysql.ploomber.io/en/latest/integrations/pandas.html'><code>.DataFrame()</code></a> or to polars, call <a href='https://jupysql.ploomber.io/en/latest/integrations/polars.html'><code>.PolarsDataFrame()</code></a></span><br>"
      ],
      "text/plain": [
       "+----------+\n",
       "| RFCCHAR1 |\n",
       "+----------+\n",
       "|    A     |\n",
       "|    B     |\n",
       "|    C     |\n",
       "|    X     |\n",
       "+----------+"
      ]
     },
     "execution_count": 16,
     "metadata": {},
     "output_type": "execute_result"
    }
   ],
   "source": [
    "%%sql\n",
    "select RFCCHAR1 from sap_rfc_invoke('STFC_STRUCTURE', {\n",
    "    'RFCTABLE': [\n",
    "        {'RFCCHAR1': 'A', 'RFCCHAR2': 'AA', 'RFCDATE': '2022-01-01'::DATE}, \n",
    "        {'RFCCHAR1': 'B', 'RFCCHAR2': 'BB', 'RFCDATE': '2022-01-02'::DATE},\n",
    "        {'RFCCHAR1': 'C', 'RFCCHAR2': 'CC', 'RFCDATE': '2022-01-03'::DATE},\n",
    "    ]\n",
    "}, path='/RFCTABLE');"
   ]
  },
  {
   "cell_type": "code",
   "execution_count": null,
   "id": "9630a9a9-b236-424d-aabb-30c8ad946cfe",
   "metadata": {},
   "outputs": [],
   "source": []
  }
 ],
 "metadata": {
  "kernelspec": {
   "display_name": "Python 3 (ipykernel)",
   "language": "python",
   "name": "python3"
  },
  "language_info": {
   "codemirror_mode": {
    "name": "ipython",
    "version": 3
   },
   "file_extension": ".py",
   "mimetype": "text/x-python",
   "name": "python",
   "nbconvert_exporter": "python",
   "pygments_lexer": "ipython3",
   "version": "3.9.16"
  }
 },
 "nbformat": 4,
 "nbformat_minor": 5
}
