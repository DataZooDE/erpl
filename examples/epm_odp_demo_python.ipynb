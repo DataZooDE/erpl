{
 "cells": [
  {
   "cell_type": "code",
   "execution_count": 1,
   "id": "0561ec5e-63a7-4cbc-a77c-e31d755acc59",
   "metadata": {},
   "outputs": [],
   "source": [
    "import duckdb"
   ]
  },
  {
   "cell_type": "code",
   "execution_count": 2,
   "id": "594a1423-f958-4b8f-95d2-7ebbff262b1d",
   "metadata": {},
   "outputs": [
    {
     "name": "stdout",
     "output_type": "stream",
     "text": [
      "-- Loading ERPL Trampoline Extension. --\n",
      "(The purpose of the extension is to extract dependencies and load the ERPL implementation)\n",
      "Saving ERPL SAP dependencies to '/home/jr/.duckdb/extensions/v0.9.2/linux_amd64' and loading them ... done\n",
      "ERPL extension extracted and saved to /home/jr/.duckdb/extensions/v0.9.2/linux_amd64.\n",
      "ERPL implementation extension installed from /home/jr/.duckdb/extensions/v0.9.2/linux_amd64/erpl_rfc.duckdb_extension.\n",
      "ERPL implementation extension loaded. For instructions how to use it visit https://erpl.io\n"
     ]
    }
   ],
   "source": [
    "con = duckdb.connect(config={\"allow_unsigned_extensions\": \"true\"})\n",
    "con.install_extension(\"./erpl.duckdb_extension\");\n",
    "con.load_extension(\"erpl\");\n",
    "con.sql(\"\"\"\n",
    "SET sap_ashost = 'localhost';\n",
    "SET sap_sysnr = '00';\n",
    "SET sap_user = 'DEVELOPER';\n",
    "SET sap_password = 'Htods70334';\n",
    "SET sap_client = '001';\n",
    "SET sap_lang = 'EN';\n",
    "\"\"\");"
   ]
  },
  {
   "cell_type": "code",
   "execution_count": 3,
   "id": "24da18fe-4933-4d6f-a831-2ba23abd431c",
   "metadata": {},
   "outputs": [
    {
     "data": {
      "text/plain": [
       "┌───────────────┬─────────────┬──────────────────────┬───────────────┬───┬──────────┬──────────────┬─────────┐\n",
       "│ database_name │ schema_name │    function_name     │ function_type │ … │ internal │ function_oid │ example │\n",
       "│    varchar    │   varchar   │       varchar        │    varchar    │   │ boolean  │    int64     │ varchar │\n",
       "├───────────────┼─────────────┼──────────────────────┼───────────────┼───┼──────────┼──────────────┼─────────┤\n",
       "│ system        │ main        │ sap_bics_show_quer…  │ table         │ … │ true     │         1434 │ NULL    │\n",
       "│ system        │ main        │ sap_odp_read_full    │ table         │ … │ true     │         1464 │ NULL    │\n",
       "│ system        │ main        │ sap_odp_show_cursors │ table         │ … │ true     │         1462 │ NULL    │\n",
       "│ system        │ main        │ sap_odp_show_subsc…  │ table         │ … │ true     │         1460 │ NULL    │\n",
       "│ system        │ main        │ sap_odp_preview      │ table         │ … │ true     │         1458 │ NULL    │\n",
       "│ system        │ main        │ sap_odp_describe     │ table         │ … │ true     │         1456 │ NULL    │\n",
       "│ system        │ main        │ sap_odp_show         │ table         │ … │ true     │         1454 │ NULL    │\n",
       "│ system        │ main        │ sap_odp_show_conte…  │ table         │ … │ true     │         1452 │ NULL    │\n",
       "│ system        │ main        │ sap_bics_result      │ table         │ … │ true     │         1446 │ NULL    │\n",
       "│ system        │ main        │ sap_bics_filter      │ table         │ … │ true     │         1444 │ NULL    │\n",
       "│   ·           │  ·          │        ·             │   ·           │ · │  ·       │           ·  │  ·      │\n",
       "│   ·           │  ·          │        ·             │   ·           │ · │  ·       │           ·  │  ·      │\n",
       "│   ·           │  ·          │        ·             │   ·           │ · │  ·       │           ·  │  ·      │\n",
       "│ system        │ main        │ sap_rfc_show_funct…  │ table         │ … │ true     │         1402 │ NULL    │\n",
       "│ system        │ main        │ sap_rfc_invoke       │ table         │ … │ true     │         1400 │ NULL    │\n",
       "│ system        │ main        │ sap_rfc_ping         │ pragma        │ … │ true     │         1398 │ NULL    │\n",
       "│ system        │ main        │ sap_rfc_set_trace_…  │ pragma        │ … │ true     │         1414 │ NULL    │\n",
       "│ system        │ main        │ sap_rfc_set_trace_…  │ pragma        │ … │ true     │         1416 │ NULL    │\n",
       "│ system        │ main        │ sap_rfc_set_maximu…  │ pragma        │ … │ true     │         1418 │ NULL    │\n",
       "│ system        │ main        │ sap_rfc_set_maximu…  │ pragma        │ … │ true     │         1420 │ NULL    │\n",
       "│ system        │ main        │ sap_rfc_set_ini_path │ pragma        │ … │ true     │         1422 │ NULL    │\n",
       "│ system        │ main        │ sap_rfc_reload_ini…  │ pragma        │ … │ true     │         1424 │ NULL    │\n",
       "│ system        │ main        │ sap_odp_drop         │ pragma        │ … │ true     │         1450 │ NULL    │\n",
       "├───────────────┴─────────────┴──────────────────────┴───────────────┴───┴──────────┴──────────────┴─────────┤\n",
       "│ 32 rows (20 shown)                                                                    14 columns (7 shown) │\n",
       "└────────────────────────────────────────────────────────────────────────────────────────────────────────────┘"
      ]
     },
     "execution_count": 3,
     "metadata": {},
     "output_type": "execute_result"
    }
   ],
   "source": [
    "con.sql(\"SELECT * FROM duckdb_functions() WHERE function_name LIKE '%sap_%';\")"
   ]
  },
  {
   "cell_type": "code",
   "execution_count": 4,
   "id": "a6ee82db-6105-4d52-bc0e-4cedabcba434",
   "metadata": {},
   "outputs": [
    {
     "data": {
      "text/plain": [
       "┌────────────────┬──────────────────────────────────┬─────────┐\n",
       "│ technical_name │               text               │ release │\n",
       "│    varchar     │             varchar              │ varchar │\n",
       "├────────────────┼──────────────────────────────────┼─────────┤\n",
       "│ ABAP_CDS       │ ABAP Core Data Services          │ SBC754  │\n",
       "│ BW             │ SAP NetWeaver Business Warehouse │ SBW754  │\n",
       "│ HANA           │ HANA Information Views           │         │\n",
       "│ SAPI           │ DataSources/Extractors           │ SDE754  │\n",
       "└────────────────┴──────────────────────────────────┴─────────┘"
      ]
     },
     "execution_count": 4,
     "metadata": {},
     "output_type": "execute_result"
    }
   ],
   "source": [
    "con.sql(\"SELECT * FROM sap_odp_show_contexts();\")"
   ]
  },
  {
   "cell_type": "code",
   "execution_count": 5,
   "id": "9cdf5db4-0c24-4cfa-bea9-c857d5117a54",
   "metadata": {},
   "outputs": [
    {
     "data": {
      "text/plain": [
       "┌────────────────────┬─────────────────────────────────────────────┬───────────┬────────────────────────┐\n",
       "│   technical_name   │                    text                     │ semantics │     semantics_text     │\n",
       "│      varchar       │                   varchar                   │  varchar  │        varchar         │\n",
       "├────────────────────┼─────────────────────────────────────────────┼───────────┼────────────────────────┤\n",
       "│ REPMDEP_VALEND_V$F │ REPM_EMP_DEPT_VALIDEND                      │ F         │ Transaction Data/Facts │\n",
       "│ REPM_DEPHV2$H      │ Department Hierarchy View                   │ H         │ Hierarchy              │\n",
       "│ REPM_DEPHV3$H      │ Department Hierarchy                        │ H         │ Hierarchy              │\n",
       "│ REPM_DEPTD$P       │ Department Details                          │ P         │ Master Data/Attributes │\n",
       "│ REPM_DEPTHV1$E     │ Department Hierarchy View                   │ E         │ E                      │\n",
       "│ REPM_DV1$P         │ Department View                             │ P         │ Master Data/Attributes │\n",
       "│ REPM_DV2$P         │ Department View                             │ P         │ Master Data/Attributes │\n",
       "│ REPM_DV3$P         │ Department View                             │ P         │ Master Data/Attributes │\n",
       "│ REPM_EMP$P         │ Employee View                               │ P         │ Master Data/Attributes │\n",
       "│ REPM_EMPVALDATE$F  │ Employee Validity Dates                     │ F         │ Transaction Data/Facts │\n",
       "│        ·           │            ·                                │ ·         │           ·            │\n",
       "│        ·           │            ·                                │ ·         │           ·            │\n",
       "│        ·           │            ·                                │ ·         │           ·            │\n",
       "│ SEPM_ISOBISTTS$P   │ EPM Demo: Sales Order Billing Status        │ P         │ Master Data/Attributes │\n",
       "│ SEPM_ISODLSTTS$P   │ EPM Demo: Sales Order Delivery Status       │ P         │ Master Data/Attributes │\n",
       "│ SEPM_ISOI$P        │ EPM Demo: Sales Order Item                  │ P         │ Master Data/Attributes │\n",
       "│ SEPM_ISOISL$P      │ EPM Demo: Sales Order Item Schedule Line    │ P         │ Master Data/Attributes │\n",
       "│ SEPM_ISOLCSTTS$P   │ EPM Demo: Sales Order Life Cycle Status     │ P         │ Master Data/Attributes │\n",
       "│ SEPM_ISOOASTTS$P   │ EPM Demo: Sales Order Overall Status        │ P         │ Master Data/Attributes │\n",
       "│ SEPM_ISOPMETHOD$P  │ EPM Demo: Sales Order Payment Method Values │ P         │ Master Data/Attributes │\n",
       "│ SEPM_ISOPTERMS$P   │ EPM Demo: Sales Order Payment Terms         │ P         │ Master Data/Attributes │\n",
       "│ SEPM_ISUPP$P       │ EPM Demo: Business Partner                  │ P         │ Master Data/Attributes │\n",
       "│ SEPM_IUOM$P        │ EPM Demo: Unit of Measure                   │ P         │ Master Data/Attributes │\n",
       "├────────────────────┴─────────────────────────────────────────────┴───────────┴────────────────────────┤\n",
       "│ 79 rows (20 shown)                                                                          4 columns │\n",
       "└───────────────────────────────────────────────────────────────────────────────────────────────────────┘"
      ]
     },
     "execution_count": 5,
     "metadata": {},
     "output_type": "execute_result"
    }
   ],
   "source": [
    "con.sql(\"SELECT * FROM sap_odp_show('ABAP_CDS') WHERE technical_name LIKE '%EPM%' AND SEMANTICS NOT IN ('T');\")"
   ]
  },
  {
   "cell_type": "code",
   "execution_count": 6,
   "id": "20f84d8f-cb67-4653-b16c-9c389b43b5b9",
   "metadata": {},
   "outputs": [
    {
     "data": {
      "text/plain": [
       "┌────────────────┬───────────────┬────────────────┬────────────────────┬───────────────┐\n",
       "│ technical_name │ supports_full │ supports_delta │ supports_real_time │  parent_node  │\n",
       "│    varchar     │    boolean    │    boolean     │      boolean       │    varchar    │\n",
       "├────────────────┼───────────────┼────────────────┼────────────────────┼───────────────┤\n",
       "│ REPM_EMP       │ true          │ false          │ false              │ BW-BCT-NW-NWD │\n",
       "└────────────────┴───────────────┴────────────────┴────────────────────┴───────────────┘"
      ]
     },
     "execution_count": 6,
     "metadata": {},
     "output_type": "execute_result"
    }
   ],
   "source": [
    "con.sql(\"\"\"\n",
    "SELECT technical_name, COLUMNS(supports_), parent_node, FROM sap_odp_describe('ABAP_CDS', 'REPM_EMP$P')\n",
    "\"\"\")"
   ]
  },
  {
   "cell_type": "code",
   "execution_count": 7,
   "id": "c8cc0e60-0617-409c-aff5-68e21ea772b1",
   "metadata": {},
   "outputs": [
    {
     "data": {
      "text/plain": [
       "┌──────────────────────┬──────────────────────┬───────────┬───┬──────────────────┬─────────────┬──────────────────────┐\n",
       "│    technical_name    │         text         │ abap_type │ … │    text_short    │ text_medium │      text_long       │\n",
       "│       varchar        │       varchar        │  varchar  │   │     varchar      │   varchar   │       varchar        │\n",
       "├──────────────────────┼──────────────────────┼───────────┼───┼──────────────────┼─────────────┼──────────────────────┤\n",
       "│ SALESORDERITEMUUID   │ EPM: Generic Node …  │ RAW       │ … │ Node Key         │             │ EPM: Generic Node …  │\n",
       "│ SALESORDERUUID       │ EPM: Sales Order U…  │ RAW       │ … │ Sales Order UUID │             │ EPM: Sales Order U…  │\n",
       "│ SALESORDERITEM       │ EPM: Sales Order I…  │ CHAR      │ … │ Item Position    │             │ EPM: Sales Order I…  │\n",
       "│ PRODUCTUUID          │ EPM: Generic Node …  │ RAW       │ … │ Node Key         │             │ EPM: Generic Node …  │\n",
       "│ SHORTTEXTGROUPUUID   │ EPM: Generic Node …  │ RAW       │ … │ Node Key         │             │ EPM: Generic Node …  │\n",
       "│ TRANSACTIONCURRENCY  │ EPM: Currency Code   │ CUKY      │ … │ Currency Code    │             │ EPM: Currency Code   │\n",
       "│ GROSSAMOUNTINTRANS…  │ EPM: Total Gross A…  │ CURR      │ … │ Gross Amount     │             │ EPM: Total Gross A…  │\n",
       "│ NETAMOUNTINTRANSAC…  │ EPM: Total Net Amo…  │ CURR      │ … │ Net Amount       │             │ EPM: Total Net Amo…  │\n",
       "│ TAXAMOUNTINTRANSAC…  │ EPM: Total Tax Amo…  │ CURR      │ … │ Tax Amount       │             │ EPM: Total Tax Amo…  │\n",
       "│ PRODUCTAVAILABILIT…  │ EPM: Sales Order I…  │ CHAR      │ … │ ATP Status       │             │ EPM: Sales Order I…  │\n",
       "│ OPPORTUNITYITEM      │ EPM: Sales Order I…  │ CHAR      │ … │ Item Position    │             │ EPM: Sales Order I…  │\n",
       "├──────────────────────┴──────────────────────┴───────────┴───┴──────────────────┴─────────────┴──────────────────────┤\n",
       "│ 11 rows                                                                                        14 columns (6 shown) │\n",
       "└─────────────────────────────────────────────────────────────────────────────────────────────────────────────────────┘"
      ]
     },
     "execution_count": 7,
     "metadata": {},
     "output_type": "execute_result"
    }
   ],
   "source": [
    "con.sql(\"\"\"\n",
    "WITH\n",
    "    meta AS MATERIALIZED (SELECT * FROM sap_odp_describe('ABAP_CDS', 'SEPM_ISOI$P')),\n",
    "    txt AS (SELECT unnest(texts, recursive:=true) FROM meta),\n",
    "    fields AS (SELECT unnest(fields, recursive:=true) FROM meta)\n",
    "SELECT * FROM fields LEFT JOIN txt ON (fields.technical_name = txt.technical_name) WHERE txt.language = 'E'\n",
    "\"\"\")"
   ]
  },
  {
   "cell_type": "code",
   "execution_count": 8,
   "id": "64bd6611-f8a2-4970-a7c3-51356d5124f0",
   "metadata": {},
   "outputs": [
    {
     "data": {
      "text/plain": [
       "┌────────────────────────┬──────────┬─────────────────────┬─────────────┬──────────────────────────────────────────┐\n",
       "│     technical_name     │ language │     text_short      │ text_medium │                text_long                 │\n",
       "│        varchar         │ varchar  │       varchar       │   varchar   │                 varchar                  │\n",
       "├────────────────────────┼──────────┼─────────────────────┼─────────────┼──────────────────────────────────────────┤\n",
       "│                        │ D        │                     │             │ EPM-Demo: Geschäftspartner               │\n",
       "│ ADDRESSUUID            │ D        │ Knotenschlüssel     │             │ EPM: Generischer Knotenschlüssel         │\n",
       "│ COMPANYNAME            │ D        │ Firma               │             │ EPM: Firmenname                          │\n",
       "│ CREATEDBYUSER          │ D        │ Knotenschlüssel     │             │ EPM: Generischer Knotenschlüssel         │\n",
       "│ CREATIONDATETIME       │ D        │ Angelegt um         │             │ EPM: Angelegt um                         │\n",
       "│ CURRENCY               │ D        │ Währungscode        │             │ EPM: Währungscode                        │\n",
       "│ EMAILADDRESS           │ D        │ E-Mail              │             │ EPM: E-Mail-Adresse                      │\n",
       "│ FAXNUMBER              │ D        │ Fax                 │             │ EPM: Faxnummer                           │\n",
       "│ LASTCHANGEDBYUSER      │ D        │ Knotenschlüssel     │             │ EPM: Generischer Knotenschlüssel         │\n",
       "│ LASTCHANGEDDATETIME    │ D        │ Geändert um         │             │ EPM: Geändert um                         │\n",
       "│ LEGALFORM              │ D        │ Rechtsform          │             │ EPM: Rechtsform des Geschäftspartners    │\n",
       "│ PHONENUMBER            │ D        │ Telefon             │             │ EPM: Telefonnummer                       │\n",
       "│ SUPPLIER               │ D        │ Geschäftspartner-ID │             │ EPM: Geschäftspartner-ID                 │\n",
       "│ SUPPLIERAPPROVALSTATUS │ D        │ Genehmigungsstatus  │             │ EPM: Genehmigungsstatus Geschäftspartner │\n",
       "│ SUPPLIERUUID           │ D        │ Geschäftspart.-UUID │             │ EPM: Geschäftspartnerschlüssel           │\n",
       "│ URL                    │ D        │ URI                 │             │ EPM: Web-Adresse                         │\n",
       "├────────────────────────┴──────────┴─────────────────────┴─────────────┴──────────────────────────────────────────┤\n",
       "│ 16 rows                                                                                                5 columns │\n",
       "└──────────────────────────────────────────────────────────────────────────────────────────────────────────────────┘"
      ]
     },
     "execution_count": 8,
     "metadata": {},
     "output_type": "execute_result"
    }
   ],
   "source": [
    "con.sql(\"SELECT * FROM (SELECT unnest(texts, recursive:=true) FROM sap_odp_describe('ABAP_CDS', 'SEPM_ISUPP$P')) AS SS WHERE language = 'D'\")"
   ]
  },
  {
   "cell_type": "code",
   "execution_count": 9,
   "id": "55093d2d-ec3d-4b56-acf5-70c83b7d8b1b",
   "metadata": {},
   "outputs": [
    {
     "data": {
      "text/plain": [
       "┌─────────────────────┬─────────────────────────────────────────────────┬───────────┬────────┬──────────┐\n",
       "│   technical_name    │                      text                       │ abap_type │ length │ decimals │\n",
       "│       varchar       │                     varchar                     │  varchar  │ int64  │  int64   │\n",
       "├─────────────────────┼─────────────────────────────────────────────────┼───────────┼────────┼──────────┤\n",
       "│ BUSINESSPARTNERUUID │ EPM: Business Partner Key                       │ RAW       │     16 │        0 │\n",
       "│ BUSINESSPARTNER     │ EPM: Business Partner ID                        │ CHAR      │     10 │        0 │\n",
       "│ BUSINESSPARTNERROLE │ EPM: Business Partner Role                      │ CHAR      │      3 │        0 │\n",
       "│ CURRENCY            │ EPM: Currency Code                              │ CUKY      │      5 │        0 │\n",
       "│ COMPANYNAME         │ EPM: Company Name                               │ CHAR      │     80 │        0 │\n",
       "│ LEGALFORM           │ EPM: Legal Form of Business Partner             │ CHAR      │     10 │        0 │\n",
       "│ ADDRESSUUID         │ EPM: Generic Node Key                           │ RAW       │     16 │        0 │\n",
       "│ EMAILADDRESS        │ EPM: E-Mail Address                             │ CHAR      │    255 │        0 │\n",
       "│ FAXNUMBER           │ EPM: Fax Number                                 │ CHAR      │     30 │        0 │\n",
       "│ PHONENUMBER         │ EPM: Phone Number                               │ CHAR      │     30 │        0 │\n",
       "│ URL                 │ EPM: Web Address                                │ STRG      │      0 │        0 │\n",
       "│ CREATEDBYUSER       │ EPM: Generic Node Key                           │ RAW       │     16 │        0 │\n",
       "│ CREATIONDATETIME    │ EPM: Created At                                 │ DEC       │     21 │        7 │\n",
       "│ LASTCHANGEDBYUSER   │ EPM: Generic Node Key                           │ RAW       │     16 │        0 │\n",
       "│ LASTCHANGEDDATETIME │ EPM: Changed At                                 │ DEC       │     21 │        7 │\n",
       "│ BUPAAPPROVALSTATUS  │ EPM: Business Partner Approval Status           │ CHAR      │      1 │        0 │\n",
       "│ ODQ_CHANGEMODE      │ Change Mode for a Data Record in the Delta      │ CHAR      │      1 │        0 │\n",
       "│ ODQ_ENTITYCNTR      │ Number of Data Units (Data Records for Example) │ DEC       │     19 │        0 │\n",
       "├─────────────────────┴─────────────────────────────────────────────────┴───────────┴────────┴──────────┤\n",
       "│ 18 rows                                                                                     5 columns │\n",
       "└───────────────────────────────────────────────────────────────────────────────────────────────────────┘"
      ]
     },
     "execution_count": 9,
     "metadata": {},
     "output_type": "execute_result"
    }
   ],
   "source": [
    "con.sql(\"\"\"SELECT technical_name, text, abap_type, length, decimals from (SELECT unnest(fields, recursive:=true) FROM sap_odp_describe('ABAP_CDS', 'SEPM_IBUPA$P')) AS SS\"\"\")"
   ]
  },
  {
   "cell_type": "code",
   "execution_count": 7,
   "id": "30316b57-9772-4c23-a385-86909ca8bde2",
   "metadata": {},
   "outputs": [
    {
     "data": {
      "text/plain": [
       "┌──────────────────────┬──────────────────────┬────────────────┬───┬─────────────────┬────────────────┬────────────────┐\n",
       "│  SALESORDERITEMUUID  │    SALESORDERUUID    │ SALESORDERITEM │ … │ OPPORTUNITYITEM │ ODQ_CHANGEMODE │ ODQ_ENTITYCNTR │\n",
       "│         blob         │         blob         │    varchar     │   │     varchar     │    varchar     │ decimal(19,0)  │\n",
       "├──────────────────────┼──────────────────────┼────────────────┼───┼─────────────────┼────────────────┼────────────────┤\n",
       "│ \\x0Aq\\xE5\\xD7\\xE6U…  │ \\x0Aq\\xE5\\xD7\\xE6U…  │ 0000000010     │ … │ NULL            │ NULL           │           NULL │\n",
       "│ \\x0Aq\\xE5\\xD7\\xE6U…  │ \\x0Aq\\xE5\\xD7\\xE6U…  │ 0000000010     │ … │ NULL            │ NULL           │           NULL │\n",
       "│ \\x0Aq\\xE5\\xD7\\xE6U…  │ \\x0Aq\\xE5\\xD7\\xE6U…  │ 0000000010     │ … │ NULL            │ NULL           │           NULL │\n",
       "│ \\x0Aq\\xE5\\xD7\\xE6U…  │ \\x0Aq\\xE5\\xD7\\xE6U…  │ 0000000010     │ … │ NULL            │ NULL           │           NULL │\n",
       "│ \\x0Aq\\xE5\\xD7\\xE6U…  │ \\x0Aq\\xE5\\xD7\\xE6U…  │ 0000000010     │ … │ NULL            │ NULL           │           NULL │\n",
       "│ \\x0Aq\\xE5\\xD7\\xE6U…  │ \\x0Aq\\xE5\\xD7\\xE6U…  │ 0000000010     │ … │ NULL            │ NULL           │           NULL │\n",
       "│ \\x0Aq\\xE5\\xD7\\xE6U…  │ \\x0Aq\\xE5\\xD7\\xE6U…  │ 0000000010     │ … │ NULL            │ NULL           │           NULL │\n",
       "│ \\x0Aq\\xE5\\xD7\\xE6U…  │ \\x0Aq\\xE5\\xD7\\xE6U…  │ 0000000010     │ … │ NULL            │ NULL           │           NULL │\n",
       "│ \\x0Aq\\xE5\\xD7\\xE6U…  │ \\x0Aq\\xE5\\xD7\\xE6U…  │ 0000000010     │ … │ NULL            │ NULL           │           NULL │\n",
       "│ \\x0Aq\\xE5\\xD7\\xE6U…  │ \\x0Aq\\xE5\\xD7\\xE6U…  │ 0000000010     │ … │ NULL            │ NULL           │           NULL │\n",
       "├──────────────────────┴──────────────────────┴────────────────┴───┴─────────────────┴────────────────┴────────────────┤\n",
       "│ 10 rows                                                                                         13 columns (6 shown) │\n",
       "└──────────────────────────────────────────────────────────────────────────────────────────────────────────────────────┘"
      ]
     },
     "execution_count": 7,
     "metadata": {},
     "output_type": "execute_result"
    }
   ],
   "source": [
    "con.sql(\"SELECT *  FROM sap_odp_preview('ABAP_CDS', 'SEPM_ISOI$P', MAX_ROWS=10)\")"
   ]
  },
  {
   "cell_type": "code",
   "execution_count": 12,
   "id": "44eec3d8-7910-4b52-aa93-d9c483e7fbf8",
   "metadata": {},
   "outputs": [
    {
     "data": {
      "text/plain": [
       "┌────────────┬─────────────────┬─────────────────┬─────────────────┐\n",
       "│ queue_name │ subscriber_type │ subscriber_name │ subscriber_proc │\n",
       "│  varchar   │     varchar     │     varchar     │     varchar     │\n",
       "├──────────────────────────────────────────────────────────────────┤\n",
       "│                              0 rows                              │\n",
       "└──────────────────────────────────────────────────────────────────┘"
      ]
     },
     "execution_count": 12,
     "metadata": {},
     "output_type": "execute_result"
    }
   ],
   "source": [
    "con.sql(\"SELECT * FROM sap_odp_show_subscriptions(ERPL_ONLY=false)\")"
   ]
  },
  {
   "cell_type": "code",
   "execution_count": 13,
   "id": "6b574ee3-e4d0-4b2c-bee6-2a5a1fbdc28f",
   "metadata": {},
   "outputs": [
    {
     "data": {
      "text/plain": [
       "┌────────────┬─────────────────┬───────────────┬───────────────┬───────────┬────────────────────┬──────────────┐\n",
       "│ queue_name │ subscriber_proc │ subscriber_id │    pointer    │ is_closed │ is_delta_extension │ request_date │\n",
       "│  varchar   │     varchar     │    varchar    │ decimal(23,9) │  boolean  │      boolean       │  timestamp   │\n",
       "├──────────────────────────────────────────────────────────────────────────────────────────────────────────────┤\n",
       "│                                                    0 rows                                                    │\n",
       "└──────────────────────────────────────────────────────────────────────────────────────────────────────────────┘"
      ]
     },
     "execution_count": 13,
     "metadata": {},
     "output_type": "execute_result"
    }
   ],
   "source": [
    "con.sql(\"SELECT * FROM sap_odp_show_cursors(ERPL_ONLY=false, SUBSCRIBER_NAME='XU')\")"
   ]
  },
  {
   "cell_type": "code",
   "execution_count": null,
   "id": "0699028a-bbfe-42ce-829f-e1036da94f89",
   "metadata": {},
   "outputs": [],
   "source": []
  }
 ],
 "metadata": {
  "kernelspec": {
   "display_name": "Python 3 (ipykernel)",
   "language": "python",
   "name": "python3"
  },
  "language_info": {
   "codemirror_mode": {
    "name": "ipython",
    "version": 3
   },
   "file_extension": ".py",
   "mimetype": "text/x-python",
   "name": "python",
   "nbconvert_exporter": "python",
   "pygments_lexer": "ipython3",
   "version": "3.11.6"
  }
 },
 "nbformat": 4,
 "nbformat_minor": 5
}
